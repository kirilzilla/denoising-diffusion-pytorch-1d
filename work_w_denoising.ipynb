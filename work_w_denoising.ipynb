{
 "cells": [
  {
   "attachments": {},
   "cell_type": "markdown",
   "metadata": {},
   "source": [
    "# load toy dataset"
   ]
  },
  {
   "cell_type": "code",
   "execution_count": 1,
   "metadata": {},
   "outputs": [
    {
     "name": "stderr",
     "output_type": "stream",
     "text": [
      "/data/mamba_envs/murschel/vdm/lib/python3.9/site-packages/tqdm/auto.py:22: TqdmWarning: IProgress not found. Please update jupyter and ipywidgets. See https://ipywidgets.readthedocs.io/en/stable/user_install.html\n",
      "  from .autonotebook import tqdm as notebook_tqdm\n"
     ]
    }
   ],
   "source": [
    "import numpy as np\n",
    "import torch\n",
    "# https://drive.google.com/file/d/1DLiN4dGxkQ_u_1MRNhwak2jj02_Q58fT/view?usp=sharing\n",
    "# download data and put in root of directory\n",
    "\n",
    "arr = torch.from_numpy(np.load('merged_array.npy'))\n",
    "arr = arr.permute(1, 2, 0)"
   ]
  },
  {
   "cell_type": "code",
   "execution_count": 2,
   "metadata": {},
   "outputs": [
    {
     "data": {
      "text/plain": [
       "torch.Size([6016, 128, 202])"
      ]
     },
     "execution_count": 2,
     "metadata": {},
     "output_type": "execute_result"
    }
   ],
   "source": [
    "arr.shape"
   ]
  },
  {
   "cell_type": "code",
   "execution_count": 3,
   "metadata": {},
   "outputs": [
    {
     "data": {
      "text/plain": [
       "torch.Size([770048, 202])"
      ]
     },
     "execution_count": 3,
     "metadata": {},
     "output_type": "execute_result"
    }
   ],
   "source": [
    "arr = arr.flatten(start_dim=0, end_dim=1)\n",
    "arr.shape"
   ]
  },
  {
   "cell_type": "code",
   "execution_count": 4,
   "metadata": {},
   "outputs": [
    {
     "data": {
      "text/plain": [
       "torch.Size([1, 770048, 202])"
      ]
     },
     "execution_count": 4,
     "metadata": {},
     "output_type": "execute_result"
    }
   ],
   "source": [
    "arr = arr.unsqueeze(0)\n",
    "arr.shape"
   ]
  },
  {
   "cell_type": "code",
   "execution_count": 5,
   "metadata": {},
   "outputs": [
    {
     "data": {
      "text/plain": [
       "torch.Size([770048, 1, 128])"
      ]
     },
     "execution_count": 5,
     "metadata": {},
     "output_type": "execute_result"
    }
   ],
   "source": [
    "# dimension must be power of 2\n",
    "# so 128 or 256\n",
    "arr = arr[:, :, :128]\n",
    "arr = arr.permute(1,0,2)\n",
    "arr.shape"
   ]
  },
  {
   "cell_type": "code",
   "execution_count": 6,
   "metadata": {},
   "outputs": [
    {
     "data": {
      "text/plain": [
       "device(type='cuda')"
      ]
     },
     "execution_count": 6,
     "metadata": {},
     "output_type": "execute_result"
    }
   ],
   "source": [
    "device = torch.device('cuda' if torch.cuda.is_available() else 'cpu')\n",
    "device"
   ]
  },
  {
   "attachments": {},
   "cell_type": "markdown",
   "metadata": {},
   "source": [
    "# load 1d unet / diffusion model from gh repo, create example train_sequence and train. create diffusion bases sample version "
   ]
  },
  {
   "cell_type": "code",
   "execution_count": 7,
   "metadata": {},
   "outputs": [
    {
     "name": "stderr",
     "output_type": "stream",
     "text": [
      "Failed to detect the name of this notebook, you can set it manually with the WANDB_NOTEBOOK_NAME environment variable to enable code saving.\n",
      "\u001b[34m\u001b[1mwandb\u001b[0m: Currently logged in as: \u001b[33mkirilm\u001b[0m. Use \u001b[1m`wandb login --relogin`\u001b[0m to force relogin\n"
     ]
    },
    {
     "data": {
      "text/html": [
       "Tracking run with wandb version 0.15.5"
      ],
      "text/plain": [
       "<IPython.core.display.HTML object>"
      ]
     },
     "metadata": {},
     "output_type": "display_data"
    },
    {
     "data": {
      "text/html": [
       "Run data is saved locally in <code>/home/murschel/denoising-diffusion-pytorch-1d/wandb/run-20230707_123240-4vktem3q</code>"
      ],
      "text/plain": [
       "<IPython.core.display.HTML object>"
      ]
     },
     "metadata": {},
     "output_type": "display_data"
    },
    {
     "data": {
      "text/html": [
       "Syncing run <strong><a href='https://wandb.ai/kirilm/DDPM_testing/runs/4vktem3q' target=\"_blank\">wobbly-sky-16</a></strong> to <a href='https://wandb.ai/kirilm/DDPM_testing' target=\"_blank\">Weights & Biases</a> (<a href='https://wandb.me/run' target=\"_blank\">docs</a>)<br/>"
      ],
      "text/plain": [
       "<IPython.core.display.HTML object>"
      ]
     },
     "metadata": {},
     "output_type": "display_data"
    },
    {
     "data": {
      "text/html": [
       " View project at <a href='https://wandb.ai/kirilm/DDPM_testing' target=\"_blank\">https://wandb.ai/kirilm/DDPM_testing</a>"
      ],
      "text/plain": [
       "<IPython.core.display.HTML object>"
      ]
     },
     "metadata": {},
     "output_type": "display_data"
    },
    {
     "data": {
      "text/html": [
       " View run at <a href='https://wandb.ai/kirilm/DDPM_testing/runs/4vktem3q' target=\"_blank\">https://wandb.ai/kirilm/DDPM_testing/runs/4vktem3q</a>"
      ],
      "text/plain": [
       "<IPython.core.display.HTML object>"
      ]
     },
     "metadata": {},
     "output_type": "display_data"
    }
   ],
   "source": [
    "import torch\n",
    "from denoising_diffusion_pytorch import Unet1D, GaussianDiffusion1D, Trainer1D \n",
    "# import torch dataset\n",
    "from torch.utils.data import Dataset\n",
    "\n",
    "model = Unet1D(\n",
    "    dim = 64,\n",
    "    dim_mults = (1, 2, 4, 8),\n",
    "    channels = 1\n",
    ")\n",
    "\n",
    "diffusion = GaussianDiffusion1D(\n",
    "    model,\n",
    "    seq_length = 128,\n",
    "    timesteps = 100,\n",
    "    objective = 'pred_x0'\n",
    ")"
   ]
  },
  {
   "cell_type": "code",
   "execution_count": 8,
   "metadata": {},
   "outputs": [
    {
     "data": {
      "text/plain": [
       "Unet1D(\n",
       "  (init_conv): Conv1d(1, 64, kernel_size=(7,), stride=(1,), padding=(3,))\n",
       "  (time_mlp): Sequential(\n",
       "    (0): SinusoidalPosEmb()\n",
       "    (1): Linear(in_features=64, out_features=256, bias=True)\n",
       "    (2): GELU(approximate='none')\n",
       "    (3): Linear(in_features=256, out_features=256, bias=True)\n",
       "  )\n",
       "  (downs): ModuleList(\n",
       "    (0): ModuleList(\n",
       "      (0): ResnetBlock(\n",
       "        (mlp): Sequential(\n",
       "          (0): SiLU()\n",
       "          (1): Linear(in_features=256, out_features=128, bias=True)\n",
       "        )\n",
       "        (block1): Block(\n",
       "          (proj): Conv1d(64, 64, kernel_size=(3,), stride=(1,), padding=(1,))\n",
       "          (norm): GroupNorm(8, 64, eps=1e-05, affine=True)\n",
       "          (act): SiLU()\n",
       "        )\n",
       "        (block2): Block(\n",
       "          (proj): Conv1d(64, 64, kernel_size=(3,), stride=(1,), padding=(1,))\n",
       "          (norm): GroupNorm(8, 64, eps=1e-05, affine=True)\n",
       "          (act): SiLU()\n",
       "        )\n",
       "        (res_conv): Identity()\n",
       "      )\n",
       "      (1): ResnetBlock(\n",
       "        (mlp): Sequential(\n",
       "          (0): SiLU()\n",
       "          (1): Linear(in_features=256, out_features=128, bias=True)\n",
       "        )\n",
       "        (block1): Block(\n",
       "          (proj): Conv1d(64, 64, kernel_size=(3,), stride=(1,), padding=(1,))\n",
       "          (norm): GroupNorm(8, 64, eps=1e-05, affine=True)\n",
       "          (act): SiLU()\n",
       "        )\n",
       "        (block2): Block(\n",
       "          (proj): Conv1d(64, 64, kernel_size=(3,), stride=(1,), padding=(1,))\n",
       "          (norm): GroupNorm(8, 64, eps=1e-05, affine=True)\n",
       "          (act): SiLU()\n",
       "        )\n",
       "        (res_conv): Identity()\n",
       "      )\n",
       "      (2): Residual(\n",
       "        (fn): PreNorm(\n",
       "          (fn): LinearAttention(\n",
       "            (to_qkv): Conv1d(64, 384, kernel_size=(1,), stride=(1,), bias=False)\n",
       "            (to_out): Sequential(\n",
       "              (0): Conv1d(128, 64, kernel_size=(1,), stride=(1,))\n",
       "              (1): RMSNorm()\n",
       "            )\n",
       "          )\n",
       "          (norm): RMSNorm()\n",
       "        )\n",
       "      )\n",
       "      (3): Conv1d(64, 64, kernel_size=(4,), stride=(2,), padding=(1,))\n",
       "    )\n",
       "    (1): ModuleList(\n",
       "      (0): ResnetBlock(\n",
       "        (mlp): Sequential(\n",
       "          (0): SiLU()\n",
       "          (1): Linear(in_features=256, out_features=128, bias=True)\n",
       "        )\n",
       "        (block1): Block(\n",
       "          (proj): Conv1d(64, 64, kernel_size=(3,), stride=(1,), padding=(1,))\n",
       "          (norm): GroupNorm(8, 64, eps=1e-05, affine=True)\n",
       "          (act): SiLU()\n",
       "        )\n",
       "        (block2): Block(\n",
       "          (proj): Conv1d(64, 64, kernel_size=(3,), stride=(1,), padding=(1,))\n",
       "          (norm): GroupNorm(8, 64, eps=1e-05, affine=True)\n",
       "          (act): SiLU()\n",
       "        )\n",
       "        (res_conv): Identity()\n",
       "      )\n",
       "      (1): ResnetBlock(\n",
       "        (mlp): Sequential(\n",
       "          (0): SiLU()\n",
       "          (1): Linear(in_features=256, out_features=128, bias=True)\n",
       "        )\n",
       "        (block1): Block(\n",
       "          (proj): Conv1d(64, 64, kernel_size=(3,), stride=(1,), padding=(1,))\n",
       "          (norm): GroupNorm(8, 64, eps=1e-05, affine=True)\n",
       "          (act): SiLU()\n",
       "        )\n",
       "        (block2): Block(\n",
       "          (proj): Conv1d(64, 64, kernel_size=(3,), stride=(1,), padding=(1,))\n",
       "          (norm): GroupNorm(8, 64, eps=1e-05, affine=True)\n",
       "          (act): SiLU()\n",
       "        )\n",
       "        (res_conv): Identity()\n",
       "      )\n",
       "      (2): Residual(\n",
       "        (fn): PreNorm(\n",
       "          (fn): LinearAttention(\n",
       "            (to_qkv): Conv1d(64, 384, kernel_size=(1,), stride=(1,), bias=False)\n",
       "            (to_out): Sequential(\n",
       "              (0): Conv1d(128, 64, kernel_size=(1,), stride=(1,))\n",
       "              (1): RMSNorm()\n",
       "            )\n",
       "          )\n",
       "          (norm): RMSNorm()\n",
       "        )\n",
       "      )\n",
       "      (3): Conv1d(64, 128, kernel_size=(4,), stride=(2,), padding=(1,))\n",
       "    )\n",
       "    (2): ModuleList(\n",
       "      (0): ResnetBlock(\n",
       "        (mlp): Sequential(\n",
       "          (0): SiLU()\n",
       "          (1): Linear(in_features=256, out_features=256, bias=True)\n",
       "        )\n",
       "        (block1): Block(\n",
       "          (proj): Conv1d(128, 128, kernel_size=(3,), stride=(1,), padding=(1,))\n",
       "          (norm): GroupNorm(8, 128, eps=1e-05, affine=True)\n",
       "          (act): SiLU()\n",
       "        )\n",
       "        (block2): Block(\n",
       "          (proj): Conv1d(128, 128, kernel_size=(3,), stride=(1,), padding=(1,))\n",
       "          (norm): GroupNorm(8, 128, eps=1e-05, affine=True)\n",
       "          (act): SiLU()\n",
       "        )\n",
       "        (res_conv): Identity()\n",
       "      )\n",
       "      (1): ResnetBlock(\n",
       "        (mlp): Sequential(\n",
       "          (0): SiLU()\n",
       "          (1): Linear(in_features=256, out_features=256, bias=True)\n",
       "        )\n",
       "        (block1): Block(\n",
       "          (proj): Conv1d(128, 128, kernel_size=(3,), stride=(1,), padding=(1,))\n",
       "          (norm): GroupNorm(8, 128, eps=1e-05, affine=True)\n",
       "          (act): SiLU()\n",
       "        )\n",
       "        (block2): Block(\n",
       "          (proj): Conv1d(128, 128, kernel_size=(3,), stride=(1,), padding=(1,))\n",
       "          (norm): GroupNorm(8, 128, eps=1e-05, affine=True)\n",
       "          (act): SiLU()\n",
       "        )\n",
       "        (res_conv): Identity()\n",
       "      )\n",
       "      (2): Residual(\n",
       "        (fn): PreNorm(\n",
       "          (fn): LinearAttention(\n",
       "            (to_qkv): Conv1d(128, 384, kernel_size=(1,), stride=(1,), bias=False)\n",
       "            (to_out): Sequential(\n",
       "              (0): Conv1d(128, 128, kernel_size=(1,), stride=(1,))\n",
       "              (1): RMSNorm()\n",
       "            )\n",
       "          )\n",
       "          (norm): RMSNorm()\n",
       "        )\n",
       "      )\n",
       "      (3): Conv1d(128, 256, kernel_size=(4,), stride=(2,), padding=(1,))\n",
       "    )\n",
       "    (3): ModuleList(\n",
       "      (0): ResnetBlock(\n",
       "        (mlp): Sequential(\n",
       "          (0): SiLU()\n",
       "          (1): Linear(in_features=256, out_features=512, bias=True)\n",
       "        )\n",
       "        (block1): Block(\n",
       "          (proj): Conv1d(256, 256, kernel_size=(3,), stride=(1,), padding=(1,))\n",
       "          (norm): GroupNorm(8, 256, eps=1e-05, affine=True)\n",
       "          (act): SiLU()\n",
       "        )\n",
       "        (block2): Block(\n",
       "          (proj): Conv1d(256, 256, kernel_size=(3,), stride=(1,), padding=(1,))\n",
       "          (norm): GroupNorm(8, 256, eps=1e-05, affine=True)\n",
       "          (act): SiLU()\n",
       "        )\n",
       "        (res_conv): Identity()\n",
       "      )\n",
       "      (1): ResnetBlock(\n",
       "        (mlp): Sequential(\n",
       "          (0): SiLU()\n",
       "          (1): Linear(in_features=256, out_features=512, bias=True)\n",
       "        )\n",
       "        (block1): Block(\n",
       "          (proj): Conv1d(256, 256, kernel_size=(3,), stride=(1,), padding=(1,))\n",
       "          (norm): GroupNorm(8, 256, eps=1e-05, affine=True)\n",
       "          (act): SiLU()\n",
       "        )\n",
       "        (block2): Block(\n",
       "          (proj): Conv1d(256, 256, kernel_size=(3,), stride=(1,), padding=(1,))\n",
       "          (norm): GroupNorm(8, 256, eps=1e-05, affine=True)\n",
       "          (act): SiLU()\n",
       "        )\n",
       "        (res_conv): Identity()\n",
       "      )\n",
       "      (2): Residual(\n",
       "        (fn): PreNorm(\n",
       "          (fn): LinearAttention(\n",
       "            (to_qkv): Conv1d(256, 384, kernel_size=(1,), stride=(1,), bias=False)\n",
       "            (to_out): Sequential(\n",
       "              (0): Conv1d(128, 256, kernel_size=(1,), stride=(1,))\n",
       "              (1): RMSNorm()\n",
       "            )\n",
       "          )\n",
       "          (norm): RMSNorm()\n",
       "        )\n",
       "      )\n",
       "      (3): Conv1d(256, 512, kernel_size=(3,), stride=(1,), padding=(1,))\n",
       "    )\n",
       "  )\n",
       "  (ups): ModuleList(\n",
       "    (0): ModuleList(\n",
       "      (0): ResnetBlock(\n",
       "        (mlp): Sequential(\n",
       "          (0): SiLU()\n",
       "          (1): Linear(in_features=256, out_features=1024, bias=True)\n",
       "        )\n",
       "        (block1): Block(\n",
       "          (proj): Conv1d(768, 512, kernel_size=(3,), stride=(1,), padding=(1,))\n",
       "          (norm): GroupNorm(8, 512, eps=1e-05, affine=True)\n",
       "          (act): SiLU()\n",
       "        )\n",
       "        (block2): Block(\n",
       "          (proj): Conv1d(512, 512, kernel_size=(3,), stride=(1,), padding=(1,))\n",
       "          (norm): GroupNorm(8, 512, eps=1e-05, affine=True)\n",
       "          (act): SiLU()\n",
       "        )\n",
       "        (res_conv): Conv1d(768, 512, kernel_size=(1,), stride=(1,))\n",
       "      )\n",
       "      (1): ResnetBlock(\n",
       "        (mlp): Sequential(\n",
       "          (0): SiLU()\n",
       "          (1): Linear(in_features=256, out_features=1024, bias=True)\n",
       "        )\n",
       "        (block1): Block(\n",
       "          (proj): Conv1d(768, 512, kernel_size=(3,), stride=(1,), padding=(1,))\n",
       "          (norm): GroupNorm(8, 512, eps=1e-05, affine=True)\n",
       "          (act): SiLU()\n",
       "        )\n",
       "        (block2): Block(\n",
       "          (proj): Conv1d(512, 512, kernel_size=(3,), stride=(1,), padding=(1,))\n",
       "          (norm): GroupNorm(8, 512, eps=1e-05, affine=True)\n",
       "          (act): SiLU()\n",
       "        )\n",
       "        (res_conv): Conv1d(768, 512, kernel_size=(1,), stride=(1,))\n",
       "      )\n",
       "      (2): Residual(\n",
       "        (fn): PreNorm(\n",
       "          (fn): LinearAttention(\n",
       "            (to_qkv): Conv1d(512, 384, kernel_size=(1,), stride=(1,), bias=False)\n",
       "            (to_out): Sequential(\n",
       "              (0): Conv1d(128, 512, kernel_size=(1,), stride=(1,))\n",
       "              (1): RMSNorm()\n",
       "            )\n",
       "          )\n",
       "          (norm): RMSNorm()\n",
       "        )\n",
       "      )\n",
       "      (3): Sequential(\n",
       "        (0): Upsample(scale_factor=2.0, mode=nearest)\n",
       "        (1): Conv1d(512, 256, kernel_size=(3,), stride=(1,), padding=(1,))\n",
       "      )\n",
       "    )\n",
       "    (1): ModuleList(\n",
       "      (0): ResnetBlock(\n",
       "        (mlp): Sequential(\n",
       "          (0): SiLU()\n",
       "          (1): Linear(in_features=256, out_features=512, bias=True)\n",
       "        )\n",
       "        (block1): Block(\n",
       "          (proj): Conv1d(384, 256, kernel_size=(3,), stride=(1,), padding=(1,))\n",
       "          (norm): GroupNorm(8, 256, eps=1e-05, affine=True)\n",
       "          (act): SiLU()\n",
       "        )\n",
       "        (block2): Block(\n",
       "          (proj): Conv1d(256, 256, kernel_size=(3,), stride=(1,), padding=(1,))\n",
       "          (norm): GroupNorm(8, 256, eps=1e-05, affine=True)\n",
       "          (act): SiLU()\n",
       "        )\n",
       "        (res_conv): Conv1d(384, 256, kernel_size=(1,), stride=(1,))\n",
       "      )\n",
       "      (1): ResnetBlock(\n",
       "        (mlp): Sequential(\n",
       "          (0): SiLU()\n",
       "          (1): Linear(in_features=256, out_features=512, bias=True)\n",
       "        )\n",
       "        (block1): Block(\n",
       "          (proj): Conv1d(384, 256, kernel_size=(3,), stride=(1,), padding=(1,))\n",
       "          (norm): GroupNorm(8, 256, eps=1e-05, affine=True)\n",
       "          (act): SiLU()\n",
       "        )\n",
       "        (block2): Block(\n",
       "          (proj): Conv1d(256, 256, kernel_size=(3,), stride=(1,), padding=(1,))\n",
       "          (norm): GroupNorm(8, 256, eps=1e-05, affine=True)\n",
       "          (act): SiLU()\n",
       "        )\n",
       "        (res_conv): Conv1d(384, 256, kernel_size=(1,), stride=(1,))\n",
       "      )\n",
       "      (2): Residual(\n",
       "        (fn): PreNorm(\n",
       "          (fn): LinearAttention(\n",
       "            (to_qkv): Conv1d(256, 384, kernel_size=(1,), stride=(1,), bias=False)\n",
       "            (to_out): Sequential(\n",
       "              (0): Conv1d(128, 256, kernel_size=(1,), stride=(1,))\n",
       "              (1): RMSNorm()\n",
       "            )\n",
       "          )\n",
       "          (norm): RMSNorm()\n",
       "        )\n",
       "      )\n",
       "      (3): Sequential(\n",
       "        (0): Upsample(scale_factor=2.0, mode=nearest)\n",
       "        (1): Conv1d(256, 128, kernel_size=(3,), stride=(1,), padding=(1,))\n",
       "      )\n",
       "    )\n",
       "    (2): ModuleList(\n",
       "      (0): ResnetBlock(\n",
       "        (mlp): Sequential(\n",
       "          (0): SiLU()\n",
       "          (1): Linear(in_features=256, out_features=256, bias=True)\n",
       "        )\n",
       "        (block1): Block(\n",
       "          (proj): Conv1d(192, 128, kernel_size=(3,), stride=(1,), padding=(1,))\n",
       "          (norm): GroupNorm(8, 128, eps=1e-05, affine=True)\n",
       "          (act): SiLU()\n",
       "        )\n",
       "        (block2): Block(\n",
       "          (proj): Conv1d(128, 128, kernel_size=(3,), stride=(1,), padding=(1,))\n",
       "          (norm): GroupNorm(8, 128, eps=1e-05, affine=True)\n",
       "          (act): SiLU()\n",
       "        )\n",
       "        (res_conv): Conv1d(192, 128, kernel_size=(1,), stride=(1,))\n",
       "      )\n",
       "      (1): ResnetBlock(\n",
       "        (mlp): Sequential(\n",
       "          (0): SiLU()\n",
       "          (1): Linear(in_features=256, out_features=256, bias=True)\n",
       "        )\n",
       "        (block1): Block(\n",
       "          (proj): Conv1d(192, 128, kernel_size=(3,), stride=(1,), padding=(1,))\n",
       "          (norm): GroupNorm(8, 128, eps=1e-05, affine=True)\n",
       "          (act): SiLU()\n",
       "        )\n",
       "        (block2): Block(\n",
       "          (proj): Conv1d(128, 128, kernel_size=(3,), stride=(1,), padding=(1,))\n",
       "          (norm): GroupNorm(8, 128, eps=1e-05, affine=True)\n",
       "          (act): SiLU()\n",
       "        )\n",
       "        (res_conv): Conv1d(192, 128, kernel_size=(1,), stride=(1,))\n",
       "      )\n",
       "      (2): Residual(\n",
       "        (fn): PreNorm(\n",
       "          (fn): LinearAttention(\n",
       "            (to_qkv): Conv1d(128, 384, kernel_size=(1,), stride=(1,), bias=False)\n",
       "            (to_out): Sequential(\n",
       "              (0): Conv1d(128, 128, kernel_size=(1,), stride=(1,))\n",
       "              (1): RMSNorm()\n",
       "            )\n",
       "          )\n",
       "          (norm): RMSNorm()\n",
       "        )\n",
       "      )\n",
       "      (3): Sequential(\n",
       "        (0): Upsample(scale_factor=2.0, mode=nearest)\n",
       "        (1): Conv1d(128, 64, kernel_size=(3,), stride=(1,), padding=(1,))\n",
       "      )\n",
       "    )\n",
       "    (3): ModuleList(\n",
       "      (0): ResnetBlock(\n",
       "        (mlp): Sequential(\n",
       "          (0): SiLU()\n",
       "          (1): Linear(in_features=256, out_features=128, bias=True)\n",
       "        )\n",
       "        (block1): Block(\n",
       "          (proj): Conv1d(128, 64, kernel_size=(3,), stride=(1,), padding=(1,))\n",
       "          (norm): GroupNorm(8, 64, eps=1e-05, affine=True)\n",
       "          (act): SiLU()\n",
       "        )\n",
       "        (block2): Block(\n",
       "          (proj): Conv1d(64, 64, kernel_size=(3,), stride=(1,), padding=(1,))\n",
       "          (norm): GroupNorm(8, 64, eps=1e-05, affine=True)\n",
       "          (act): SiLU()\n",
       "        )\n",
       "        (res_conv): Conv1d(128, 64, kernel_size=(1,), stride=(1,))\n",
       "      )\n",
       "      (1): ResnetBlock(\n",
       "        (mlp): Sequential(\n",
       "          (0): SiLU()\n",
       "          (1): Linear(in_features=256, out_features=128, bias=True)\n",
       "        )\n",
       "        (block1): Block(\n",
       "          (proj): Conv1d(128, 64, kernel_size=(3,), stride=(1,), padding=(1,))\n",
       "          (norm): GroupNorm(8, 64, eps=1e-05, affine=True)\n",
       "          (act): SiLU()\n",
       "        )\n",
       "        (block2): Block(\n",
       "          (proj): Conv1d(64, 64, kernel_size=(3,), stride=(1,), padding=(1,))\n",
       "          (norm): GroupNorm(8, 64, eps=1e-05, affine=True)\n",
       "          (act): SiLU()\n",
       "        )\n",
       "        (res_conv): Conv1d(128, 64, kernel_size=(1,), stride=(1,))\n",
       "      )\n",
       "      (2): Residual(\n",
       "        (fn): PreNorm(\n",
       "          (fn): LinearAttention(\n",
       "            (to_qkv): Conv1d(64, 384, kernel_size=(1,), stride=(1,), bias=False)\n",
       "            (to_out): Sequential(\n",
       "              (0): Conv1d(128, 64, kernel_size=(1,), stride=(1,))\n",
       "              (1): RMSNorm()\n",
       "            )\n",
       "          )\n",
       "          (norm): RMSNorm()\n",
       "        )\n",
       "      )\n",
       "      (3): Conv1d(64, 64, kernel_size=(3,), stride=(1,), padding=(1,))\n",
       "    )\n",
       "  )\n",
       "  (mid_block1): ResnetBlock(\n",
       "    (mlp): Sequential(\n",
       "      (0): SiLU()\n",
       "      (1): Linear(in_features=256, out_features=1024, bias=True)\n",
       "    )\n",
       "    (block1): Block(\n",
       "      (proj): Conv1d(512, 512, kernel_size=(3,), stride=(1,), padding=(1,))\n",
       "      (norm): GroupNorm(8, 512, eps=1e-05, affine=True)\n",
       "      (act): SiLU()\n",
       "    )\n",
       "    (block2): Block(\n",
       "      (proj): Conv1d(512, 512, kernel_size=(3,), stride=(1,), padding=(1,))\n",
       "      (norm): GroupNorm(8, 512, eps=1e-05, affine=True)\n",
       "      (act): SiLU()\n",
       "    )\n",
       "    (res_conv): Identity()\n",
       "  )\n",
       "  (mid_attn): Residual(\n",
       "    (fn): PreNorm(\n",
       "      (fn): Attention(\n",
       "        (to_qkv): Conv1d(512, 384, kernel_size=(1,), stride=(1,), bias=False)\n",
       "        (to_out): Conv1d(128, 512, kernel_size=(1,), stride=(1,))\n",
       "      )\n",
       "      (norm): RMSNorm()\n",
       "    )\n",
       "  )\n",
       "  (mid_block2): ResnetBlock(\n",
       "    (mlp): Sequential(\n",
       "      (0): SiLU()\n",
       "      (1): Linear(in_features=256, out_features=1024, bias=True)\n",
       "    )\n",
       "    (block1): Block(\n",
       "      (proj): Conv1d(512, 512, kernel_size=(3,), stride=(1,), padding=(1,))\n",
       "      (norm): GroupNorm(8, 512, eps=1e-05, affine=True)\n",
       "      (act): SiLU()\n",
       "    )\n",
       "    (block2): Block(\n",
       "      (proj): Conv1d(512, 512, kernel_size=(3,), stride=(1,), padding=(1,))\n",
       "      (norm): GroupNorm(8, 512, eps=1e-05, affine=True)\n",
       "      (act): SiLU()\n",
       "    )\n",
       "    (res_conv): Identity()\n",
       "  )\n",
       "  (final_res_block): ResnetBlock(\n",
       "    (mlp): Sequential(\n",
       "      (0): SiLU()\n",
       "      (1): Linear(in_features=256, out_features=128, bias=True)\n",
       "    )\n",
       "    (block1): Block(\n",
       "      (proj): Conv1d(128, 64, kernel_size=(3,), stride=(1,), padding=(1,))\n",
       "      (norm): GroupNorm(8, 64, eps=1e-05, affine=True)\n",
       "      (act): SiLU()\n",
       "    )\n",
       "    (block2): Block(\n",
       "      (proj): Conv1d(64, 64, kernel_size=(3,), stride=(1,), padding=(1,))\n",
       "      (norm): GroupNorm(8, 64, eps=1e-05, affine=True)\n",
       "      (act): SiLU()\n",
       "    )\n",
       "    (res_conv): Conv1d(128, 64, kernel_size=(1,), stride=(1,))\n",
       "  )\n",
       "  (final_conv): Conv1d(64, 1, kernel_size=(1,), stride=(1,))\n",
       ")"
      ]
     },
     "execution_count": 8,
     "metadata": {},
     "output_type": "execute_result"
    }
   ],
   "source": [
    "model"
   ]
  },
  {
   "cell_type": "code",
   "execution_count": 9,
   "metadata": {},
   "outputs": [
    {
     "name": "stderr",
     "output_type": "stream",
     "text": [
      "sampling loop time step: 100%|██████████| 100/100 [00:01<00:00, 73.85it/s]\n",
      "loss: 0.0263: 100%|██████████| 1000/1000 [04:42<00:00,  3.54it/s]"
     ]
    },
    {
     "name": "stdout",
     "output_type": "stream",
     "text": [
      "training complete\n"
     ]
    },
    {
     "name": "stderr",
     "output_type": "stream",
     "text": [
      "\n"
     ]
    }
   ],
   "source": [
    "#training_seq = torch.rand(1, 202, 32) # features are normalized from 0 to 1 # b, ch, seq_length\n",
    "training_seq = arr\n",
    "\n",
    "trainer = Trainer1D(\n",
    "    diffusion,\n",
    "    dataset = training_seq,\n",
    "    train_batch_size = 32,\n",
    "    train_lr = 8e-5,\n",
    "    train_num_steps = 1_000,         # total training steps\n",
    "    gradient_accumulate_every = 2,    # gradient accumulation steps\n",
    "    ema_decay = 0.995,                # exponential moving average decay\n",
    "    amp = True,                       # turn on mixed precision\n",
    ")\n",
    "trainer.train()"
   ]
  },
  {
   "cell_type": "code",
   "execution_count": 10,
   "metadata": {},
   "outputs": [
    {
     "name": "stderr",
     "output_type": "stream",
     "text": [
      "sampling loop time step: 100%|██████████| 100/100 [00:01<00:00, 75.21it/s]\n"
     ]
    },
    {
     "data": {
      "text/plain": [
       "torch.Size([1, 1, 128])"
      ]
     },
     "execution_count": 10,
     "metadata": {},
     "output_type": "execute_result"
    }
   ],
   "source": [
    "# after a lot of training\n",
    "\n",
    "sampled_seq = diffusion.sample(batch_size = 1)\n",
    "sampled_seq.shape"
   ]
  },
  {
   "cell_type": "code",
   "execution_count": 12,
   "metadata": {},
   "outputs": [
    {
     "data": {
      "text/plain": [
       "101"
      ]
     },
     "execution_count": 12,
     "metadata": {},
     "output_type": "execute_result"
    }
   ],
   "source": [
    "len(diffusion.noises_list2)"
   ]
  },
  {
   "cell_type": "code",
   "execution_count": 14,
   "metadata": {},
   "outputs": [
    {
     "data": {
      "text/plain": [
       "torch.Size([1, 1, 128])"
      ]
     },
     "execution_count": 14,
     "metadata": {},
     "output_type": "execute_result"
    }
   ],
   "source": [
    "diffusion.noises_list2[0].shape"
   ]
  },
  {
   "cell_type": "code",
   "execution_count": 15,
   "metadata": {},
   "outputs": [
    {
     "name": "stdout",
     "output_type": "stream",
     "text": [
      "ddim_deterministic\n"
     ]
    },
    {
     "name": "stderr",
     "output_type": "stream",
     "text": [
      "sampling loop time step:   0%|          | 0/100 [00:00<?, ?it/s]\n"
     ]
    },
    {
     "ename": "RuntimeError",
     "evalue": "Expected weight to be a vector of size equal to the number of channels in input, but got weight of shape [64] and input of shape [64, 128]",
     "output_type": "error",
     "traceback": [
      "\u001b[0;31m---------------------------------------------------------------------------\u001b[0m",
      "\u001b[0;31mRuntimeError\u001b[0m                              Traceback (most recent call last)",
      "Cell \u001b[0;32mIn[15], line 1\u001b[0m\n\u001b[0;32m----> 1\u001b[0m diffusion\u001b[39m.\u001b[39;49mddim_sample_deterministic(sampled_seq, shape\u001b[39m=\u001b[39;49msampled_seq\u001b[39m.\u001b[39;49mshape)\n",
      "File \u001b[0;32m/data/mamba_envs/murschel/vdm/lib/python3.9/site-packages/torch/autograd/grad_mode.py:27\u001b[0m, in \u001b[0;36m_DecoratorContextManager.__call__.<locals>.decorate_context\u001b[0;34m(*args, **kwargs)\u001b[0m\n\u001b[1;32m     24\u001b[0m \u001b[39m@functools\u001b[39m\u001b[39m.\u001b[39mwraps(func)\n\u001b[1;32m     25\u001b[0m \u001b[39mdef\u001b[39;00m \u001b[39mdecorate_context\u001b[39m(\u001b[39m*\u001b[39margs, \u001b[39m*\u001b[39m\u001b[39m*\u001b[39mkwargs):\n\u001b[1;32m     26\u001b[0m     \u001b[39mwith\u001b[39;00m \u001b[39mself\u001b[39m\u001b[39m.\u001b[39mclone():\n\u001b[0;32m---> 27\u001b[0m         \u001b[39mreturn\u001b[39;00m func(\u001b[39m*\u001b[39;49margs, \u001b[39m*\u001b[39;49m\u001b[39m*\u001b[39;49mkwargs)\n",
      "File \u001b[0;32m~/denoising-diffusion-pytorch-1d/denoising_diffusion_pytorch/denoising_diffusion_pytorch_1d.py:753\u001b[0m, in \u001b[0;36mGaussianDiffusion1D.ddim_sample_deterministic\u001b[0;34m(self, noises_array, shape, clip_denoised)\u001b[0m\n\u001b[1;32m    751\u001b[0m time_cond \u001b[39m=\u001b[39m torch\u001b[39m.\u001b[39mfull((batch,), time, device\u001b[39m=\u001b[39mdevice, dtype\u001b[39m=\u001b[39mtorch\u001b[39m.\u001b[39mlong)\n\u001b[1;32m    752\u001b[0m self_cond \u001b[39m=\u001b[39m x_start \u001b[39mif\u001b[39;00m \u001b[39mself\u001b[39m\u001b[39m.\u001b[39mself_condition \u001b[39melse\u001b[39;00m \u001b[39mNone\u001b[39;00m\n\u001b[0;32m--> 753\u001b[0m pred_noise, x_start, \u001b[39m*\u001b[39m_ \u001b[39m=\u001b[39m \u001b[39mself\u001b[39;49m\u001b[39m.\u001b[39;49mmodel_predictions(img, time_cond, self_cond, clip_x_start \u001b[39m=\u001b[39;49m clip_denoised)\n\u001b[1;32m    755\u001b[0m \u001b[39mif\u001b[39;00m time_next \u001b[39m<\u001b[39m \u001b[39m0\u001b[39m:\n\u001b[1;32m    756\u001b[0m     img \u001b[39m=\u001b[39m x_start\n",
      "File \u001b[0;32m~/denoising-diffusion-pytorch-1d/denoising_diffusion_pytorch/denoising_diffusion_pytorch_1d.py:626\u001b[0m, in \u001b[0;36mGaussianDiffusion1D.model_predictions\u001b[0;34m(self, x, t, x_self_cond, clip_x_start, rederive_pred_noise)\u001b[0m\n\u001b[1;32m    625\u001b[0m \u001b[39mdef\u001b[39;00m \u001b[39mmodel_predictions\u001b[39m(\u001b[39mself\u001b[39m, x, t, x_self_cond \u001b[39m=\u001b[39m \u001b[39mNone\u001b[39;00m, clip_x_start \u001b[39m=\u001b[39m \u001b[39mFalse\u001b[39;00m, rederive_pred_noise \u001b[39m=\u001b[39m \u001b[39mFalse\u001b[39;00m):\n\u001b[0;32m--> 626\u001b[0m     model_output \u001b[39m=\u001b[39m \u001b[39mself\u001b[39;49m\u001b[39m.\u001b[39;49mmodel(x, t, x_self_cond)\n\u001b[1;32m    627\u001b[0m     maybe_clip \u001b[39m=\u001b[39m partial(torch\u001b[39m.\u001b[39mclamp, \u001b[39mmin\u001b[39m \u001b[39m=\u001b[39m \u001b[39m-\u001b[39m\u001b[39m1.\u001b[39m, \u001b[39mmax\u001b[39m \u001b[39m=\u001b[39m \u001b[39m1.\u001b[39m) \u001b[39mif\u001b[39;00m clip_x_start \u001b[39melse\u001b[39;00m identity\n\u001b[1;32m    629\u001b[0m     \u001b[39mif\u001b[39;00m \u001b[39mself\u001b[39m\u001b[39m.\u001b[39mobjective \u001b[39m==\u001b[39m \u001b[39m'\u001b[39m\u001b[39mpred_noise\u001b[39m\u001b[39m'\u001b[39m:\n",
      "File \u001b[0;32m/data/mamba_envs/murschel/vdm/lib/python3.9/site-packages/torch/nn/modules/module.py:1194\u001b[0m, in \u001b[0;36mModule._call_impl\u001b[0;34m(self, *input, **kwargs)\u001b[0m\n\u001b[1;32m   1190\u001b[0m \u001b[39m# If we don't have any hooks, we want to skip the rest of the logic in\u001b[39;00m\n\u001b[1;32m   1191\u001b[0m \u001b[39m# this function, and just call forward.\u001b[39;00m\n\u001b[1;32m   1192\u001b[0m \u001b[39mif\u001b[39;00m \u001b[39mnot\u001b[39;00m (\u001b[39mself\u001b[39m\u001b[39m.\u001b[39m_backward_hooks \u001b[39mor\u001b[39;00m \u001b[39mself\u001b[39m\u001b[39m.\u001b[39m_forward_hooks \u001b[39mor\u001b[39;00m \u001b[39mself\u001b[39m\u001b[39m.\u001b[39m_forward_pre_hooks \u001b[39mor\u001b[39;00m _global_backward_hooks\n\u001b[1;32m   1193\u001b[0m         \u001b[39mor\u001b[39;00m _global_forward_hooks \u001b[39mor\u001b[39;00m _global_forward_pre_hooks):\n\u001b[0;32m-> 1194\u001b[0m     \u001b[39mreturn\u001b[39;00m forward_call(\u001b[39m*\u001b[39;49m\u001b[39minput\u001b[39;49m, \u001b[39m*\u001b[39;49m\u001b[39m*\u001b[39;49mkwargs)\n\u001b[1;32m   1195\u001b[0m \u001b[39m# Do not call functions when jit is used\u001b[39;00m\n\u001b[1;32m   1196\u001b[0m full_backward_hooks, non_full_backward_hooks \u001b[39m=\u001b[39m [], []\n",
      "File \u001b[0;32m~/denoising-diffusion-pytorch-1d/denoising_diffusion_pytorch/denoising_diffusion_pytorch_1d.py:440\u001b[0m, in \u001b[0;36mUnet1D.forward\u001b[0;34m(self, x, time, x_self_cond)\u001b[0m\n\u001b[1;32m    437\u001b[0m h \u001b[39m=\u001b[39m []\n\u001b[1;32m    439\u001b[0m \u001b[39mfor\u001b[39;00m block1, block2, attn, downsample \u001b[39min\u001b[39;00m \u001b[39mself\u001b[39m\u001b[39m.\u001b[39mdowns:\n\u001b[0;32m--> 440\u001b[0m     x \u001b[39m=\u001b[39m block1(x, t)\n\u001b[1;32m    441\u001b[0m     h\u001b[39m.\u001b[39mappend(x)\n\u001b[1;32m    443\u001b[0m     x \u001b[39m=\u001b[39m block2(x, t)\n",
      "File \u001b[0;32m/data/mamba_envs/murschel/vdm/lib/python3.9/site-packages/torch/nn/modules/module.py:1194\u001b[0m, in \u001b[0;36mModule._call_impl\u001b[0;34m(self, *input, **kwargs)\u001b[0m\n\u001b[1;32m   1190\u001b[0m \u001b[39m# If we don't have any hooks, we want to skip the rest of the logic in\u001b[39;00m\n\u001b[1;32m   1191\u001b[0m \u001b[39m# this function, and just call forward.\u001b[39;00m\n\u001b[1;32m   1192\u001b[0m \u001b[39mif\u001b[39;00m \u001b[39mnot\u001b[39;00m (\u001b[39mself\u001b[39m\u001b[39m.\u001b[39m_backward_hooks \u001b[39mor\u001b[39;00m \u001b[39mself\u001b[39m\u001b[39m.\u001b[39m_forward_hooks \u001b[39mor\u001b[39;00m \u001b[39mself\u001b[39m\u001b[39m.\u001b[39m_forward_pre_hooks \u001b[39mor\u001b[39;00m _global_backward_hooks\n\u001b[1;32m   1193\u001b[0m         \u001b[39mor\u001b[39;00m _global_forward_hooks \u001b[39mor\u001b[39;00m _global_forward_pre_hooks):\n\u001b[0;32m-> 1194\u001b[0m     \u001b[39mreturn\u001b[39;00m forward_call(\u001b[39m*\u001b[39;49m\u001b[39minput\u001b[39;49m, \u001b[39m*\u001b[39;49m\u001b[39m*\u001b[39;49mkwargs)\n\u001b[1;32m   1195\u001b[0m \u001b[39m# Do not call functions when jit is used\u001b[39;00m\n\u001b[1;32m   1196\u001b[0m full_backward_hooks, non_full_backward_hooks \u001b[39m=\u001b[39m [], []\n",
      "File \u001b[0;32m~/denoising-diffusion-pytorch-1d/denoising_diffusion_pytorch/denoising_diffusion_pytorch_1d.py:198\u001b[0m, in \u001b[0;36mResnetBlock.forward\u001b[0;34m(self, x, time_emb)\u001b[0m\n\u001b[1;32m    195\u001b[0m     time_emb \u001b[39m=\u001b[39m rearrange(time_emb, \u001b[39m'\u001b[39m\u001b[39mb c -> b c 1\u001b[39m\u001b[39m'\u001b[39m)\n\u001b[1;32m    196\u001b[0m     scale_shift \u001b[39m=\u001b[39m time_emb\u001b[39m.\u001b[39mchunk(\u001b[39m2\u001b[39m, dim \u001b[39m=\u001b[39m \u001b[39m1\u001b[39m)\n\u001b[0;32m--> 198\u001b[0m h \u001b[39m=\u001b[39m \u001b[39mself\u001b[39;49m\u001b[39m.\u001b[39;49mblock1(x, scale_shift \u001b[39m=\u001b[39;49m scale_shift)\n\u001b[1;32m    200\u001b[0m h \u001b[39m=\u001b[39m \u001b[39mself\u001b[39m\u001b[39m.\u001b[39mblock2(h)\n\u001b[1;32m    202\u001b[0m \u001b[39mreturn\u001b[39;00m h \u001b[39m+\u001b[39m \u001b[39mself\u001b[39m\u001b[39m.\u001b[39mres_conv(x)\n",
      "File \u001b[0;32m/data/mamba_envs/murschel/vdm/lib/python3.9/site-packages/torch/nn/modules/module.py:1194\u001b[0m, in \u001b[0;36mModule._call_impl\u001b[0;34m(self, *input, **kwargs)\u001b[0m\n\u001b[1;32m   1190\u001b[0m \u001b[39m# If we don't have any hooks, we want to skip the rest of the logic in\u001b[39;00m\n\u001b[1;32m   1191\u001b[0m \u001b[39m# this function, and just call forward.\u001b[39;00m\n\u001b[1;32m   1192\u001b[0m \u001b[39mif\u001b[39;00m \u001b[39mnot\u001b[39;00m (\u001b[39mself\u001b[39m\u001b[39m.\u001b[39m_backward_hooks \u001b[39mor\u001b[39;00m \u001b[39mself\u001b[39m\u001b[39m.\u001b[39m_forward_hooks \u001b[39mor\u001b[39;00m \u001b[39mself\u001b[39m\u001b[39m.\u001b[39m_forward_pre_hooks \u001b[39mor\u001b[39;00m _global_backward_hooks\n\u001b[1;32m   1193\u001b[0m         \u001b[39mor\u001b[39;00m _global_forward_hooks \u001b[39mor\u001b[39;00m _global_forward_pre_hooks):\n\u001b[0;32m-> 1194\u001b[0m     \u001b[39mreturn\u001b[39;00m forward_call(\u001b[39m*\u001b[39;49m\u001b[39minput\u001b[39;49m, \u001b[39m*\u001b[39;49m\u001b[39m*\u001b[39;49mkwargs)\n\u001b[1;32m   1195\u001b[0m \u001b[39m# Do not call functions when jit is used\u001b[39;00m\n\u001b[1;32m   1196\u001b[0m full_backward_hooks, non_full_backward_hooks \u001b[39m=\u001b[39m [], []\n",
      "File \u001b[0;32m~/denoising-diffusion-pytorch-1d/denoising_diffusion_pytorch/denoising_diffusion_pytorch_1d.py:169\u001b[0m, in \u001b[0;36mBlock.forward\u001b[0;34m(self, x, scale_shift)\u001b[0m\n\u001b[1;32m    167\u001b[0m \u001b[39mdef\u001b[39;00m \u001b[39mforward\u001b[39m(\u001b[39mself\u001b[39m, x, scale_shift \u001b[39m=\u001b[39m \u001b[39mNone\u001b[39;00m):\n\u001b[1;32m    168\u001b[0m     x \u001b[39m=\u001b[39m \u001b[39mself\u001b[39m\u001b[39m.\u001b[39mproj(x)\n\u001b[0;32m--> 169\u001b[0m     x \u001b[39m=\u001b[39m \u001b[39mself\u001b[39;49m\u001b[39m.\u001b[39;49mnorm(x)\n\u001b[1;32m    171\u001b[0m     \u001b[39mif\u001b[39;00m exists(scale_shift):\n\u001b[1;32m    172\u001b[0m         scale, shift \u001b[39m=\u001b[39m scale_shift\n",
      "File \u001b[0;32m/data/mamba_envs/murschel/vdm/lib/python3.9/site-packages/torch/nn/modules/module.py:1194\u001b[0m, in \u001b[0;36mModule._call_impl\u001b[0;34m(self, *input, **kwargs)\u001b[0m\n\u001b[1;32m   1190\u001b[0m \u001b[39m# If we don't have any hooks, we want to skip the rest of the logic in\u001b[39;00m\n\u001b[1;32m   1191\u001b[0m \u001b[39m# this function, and just call forward.\u001b[39;00m\n\u001b[1;32m   1192\u001b[0m \u001b[39mif\u001b[39;00m \u001b[39mnot\u001b[39;00m (\u001b[39mself\u001b[39m\u001b[39m.\u001b[39m_backward_hooks \u001b[39mor\u001b[39;00m \u001b[39mself\u001b[39m\u001b[39m.\u001b[39m_forward_hooks \u001b[39mor\u001b[39;00m \u001b[39mself\u001b[39m\u001b[39m.\u001b[39m_forward_pre_hooks \u001b[39mor\u001b[39;00m _global_backward_hooks\n\u001b[1;32m   1193\u001b[0m         \u001b[39mor\u001b[39;00m _global_forward_hooks \u001b[39mor\u001b[39;00m _global_forward_pre_hooks):\n\u001b[0;32m-> 1194\u001b[0m     \u001b[39mreturn\u001b[39;00m forward_call(\u001b[39m*\u001b[39;49m\u001b[39minput\u001b[39;49m, \u001b[39m*\u001b[39;49m\u001b[39m*\u001b[39;49mkwargs)\n\u001b[1;32m   1195\u001b[0m \u001b[39m# Do not call functions when jit is used\u001b[39;00m\n\u001b[1;32m   1196\u001b[0m full_backward_hooks, non_full_backward_hooks \u001b[39m=\u001b[39m [], []\n",
      "File \u001b[0;32m/data/mamba_envs/murschel/vdm/lib/python3.9/site-packages/torch/nn/modules/normalization.py:273\u001b[0m, in \u001b[0;36mGroupNorm.forward\u001b[0;34m(self, input)\u001b[0m\n\u001b[1;32m    272\u001b[0m \u001b[39mdef\u001b[39;00m \u001b[39mforward\u001b[39m(\u001b[39mself\u001b[39m, \u001b[39minput\u001b[39m: Tensor) \u001b[39m-\u001b[39m\u001b[39m>\u001b[39m Tensor:\n\u001b[0;32m--> 273\u001b[0m     \u001b[39mreturn\u001b[39;00m F\u001b[39m.\u001b[39;49mgroup_norm(\n\u001b[1;32m    274\u001b[0m         \u001b[39minput\u001b[39;49m, \u001b[39mself\u001b[39;49m\u001b[39m.\u001b[39;49mnum_groups, \u001b[39mself\u001b[39;49m\u001b[39m.\u001b[39;49mweight, \u001b[39mself\u001b[39;49m\u001b[39m.\u001b[39;49mbias, \u001b[39mself\u001b[39;49m\u001b[39m.\u001b[39;49meps)\n",
      "File \u001b[0;32m/data/mamba_envs/murschel/vdm/lib/python3.9/site-packages/torch/nn/functional.py:2528\u001b[0m, in \u001b[0;36mgroup_norm\u001b[0;34m(input, num_groups, weight, bias, eps)\u001b[0m\n\u001b[1;32m   2526\u001b[0m     \u001b[39mreturn\u001b[39;00m handle_torch_function(group_norm, (\u001b[39minput\u001b[39m, weight, bias,), \u001b[39minput\u001b[39m, num_groups, weight\u001b[39m=\u001b[39mweight, bias\u001b[39m=\u001b[39mbias, eps\u001b[39m=\u001b[39meps)\n\u001b[1;32m   2527\u001b[0m _verify_batch_size([\u001b[39minput\u001b[39m\u001b[39m.\u001b[39msize(\u001b[39m0\u001b[39m) \u001b[39m*\u001b[39m \u001b[39minput\u001b[39m\u001b[39m.\u001b[39msize(\u001b[39m1\u001b[39m) \u001b[39m/\u001b[39m\u001b[39m/\u001b[39m num_groups, num_groups] \u001b[39m+\u001b[39m \u001b[39mlist\u001b[39m(\u001b[39minput\u001b[39m\u001b[39m.\u001b[39msize()[\u001b[39m2\u001b[39m:]))\n\u001b[0;32m-> 2528\u001b[0m \u001b[39mreturn\u001b[39;00m torch\u001b[39m.\u001b[39;49mgroup_norm(\u001b[39minput\u001b[39;49m, num_groups, weight, bias, eps, torch\u001b[39m.\u001b[39;49mbackends\u001b[39m.\u001b[39;49mcudnn\u001b[39m.\u001b[39;49menabled)\n",
      "\u001b[0;31mRuntimeError\u001b[0m: Expected weight to be a vector of size equal to the number of channels in input, but got weight of shape [64] and input of shape [64, 128]"
     ]
    }
   ],
   "source": [
    "diffusion.ddim_sample_deterministic(sampled_seq, shape=sampled_seq.shape)"
   ]
  },
  {
   "cell_type": "code",
   "execution_count": null,
   "metadata": {},
   "outputs": [],
   "source": []
  },
  {
   "cell_type": "code",
   "execution_count": null,
   "metadata": {},
   "outputs": [],
   "source": []
  },
  {
   "attachments": {},
   "cell_type": "markdown",
   "metadata": {},
   "source": [
    "# compare sampled_seq to original array with euclidian distance"
   ]
  },
  {
   "cell_type": "code",
   "execution_count": 16,
   "metadata": {},
   "outputs": [
    {
     "data": {
      "image/png": "[encoded data removed]",
      "text/plain": [
       "<Figure size 640x480 with 1 Axes>"
      ]
     },
     "metadata": {},
     "output_type": "display_data"
    }
   ],
   "source": [
    "import matplotlib.pyplot as plt\n",
    "\n",
    "# random pick of sampled sequence\n",
    "diff_sampled = sampled_seq[0].cpu()\n",
    "\n",
    "# Calculate the Euclidean distance (L2 norm) between seq1 and each row of seq2\n",
    "distances = torch.linalg.norm(diff_sampled - arr, dim=-1)\n",
    "\n",
    "min_value, min_idx = distances.min(dim=0)\n",
    "max_value, max_idx = distances.max(dim=0)\n",
    "\n",
    "plt.plot(arr[min_idx][0][0].numpy(), color='blue', label='origin ENMAP sequence')\n",
    "plt.plot(diff_sampled.cpu()[0].numpy(), color='red', label='Diffusion sampled')\n",
    "plt.xlabel('spectral signature')\n",
    "plt.ylabel('intensity')\n",
    "plt.legend()  # Display the legend\n",
    "plt.title(f'Best Euclidean Distance: {min_value[0]}')\n",
    "plt.show()  # Display the plot"
   ]
  },
  {
   "cell_type": "code",
   "execution_count": null,
   "metadata": {},
   "outputs": [],
   "source": [
    "import matplotlib.pyplot as plt\n",
    "\n",
    "# random pick of sampled sequence\n",
    "diff_sampled = sampled_seq[1].cpu()\n",
    "\n",
    "# Calculate the Euclidean distance (L2 norm) between arr1 and each row of arr2\n",
    "distances = torch.linalg.norm(diff_sampled - arr, dim=-1)\n",
    "\n",
    "min_value, min_idx = distances.min(dim=0)\n",
    "max_value, max_idx = distances.max(dim=0)\n",
    "\n",
    "plt.plot(arr[min_idx][0][0].numpy(), color='blue', label='origin ENMAP sequence')\n",
    "plt.plot(diff_sampled.cpu()[0].numpy(), color='red', label='Diffusion sampled')\n",
    "plt.xlabel('spectral signature')\n",
    "plt.legend()  # Display the legend\n",
    "plt.title(f'Best Euclidean Distance: {min_value[0]}')\n",
    "plt.show()  # Display the plot"
   ]
  },
  {
   "attachments": {},
   "cell_type": "markdown",
   "metadata": {},
   "source": [
    "# histo"
   ]
  },
  {
   "cell_type": "code",
   "execution_count": null,
   "metadata": {},
   "outputs": [],
   "source": [
    "import matplotlib.pyplot as plt\n",
    "\n",
    "plt.hist(distances.detach().cpu().numpy(), bins=500)\n",
    "plt.xlabel('Euclidian Distance')\n",
    "plt.xlim(0,3)\n",
    "plt.ylabel('Frequency')\n",
    "plt.title('Histogram of Euclidian Distance')\n",
    "plt.show()"
   ]
  },
  {
   "cell_type": "code",
   "execution_count": null,
   "metadata": {},
   "outputs": [],
   "source": []
  }
 ],
 "metadata": {
  "kernelspec": {
   "display_name": "Python 3",
   "language": "python",
   "name": "python3"
  },
  "language_info": {
   "codemirror_mode": {
    "name": "ipython",
    "version": 3
   },
   "file_extension": ".py",
   "mimetype": "text/x-python",
   "name": "python",
   "nbconvert_exporter": "python",
   "pygments_lexer": "ipython3",
   "version": "3.9.16"
  },
  "orig_nbformat": 4
 },
 "nbformat": 4,
 "nbformat_minor": 2
}
